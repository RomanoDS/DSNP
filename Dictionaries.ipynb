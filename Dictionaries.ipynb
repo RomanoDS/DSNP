{
  "nbformat": 4,
  "nbformat_minor": 0,
  "metadata": {
    "colab": {
      "name": "Dictionaries.ipynb",
      "provenance": [],
      "authorship_tag": "ABX9TyME7DrekJj5AO2HCnVBpMFl",
      "include_colab_link": true
    },
    "kernelspec": {
      "name": "python3",
      "display_name": "Python 3"
    }
  },
  "cells": [
    {
      "cell_type": "markdown",
      "metadata": {
        "id": "view-in-github",
        "colab_type": "text"
      },
      "source": [
        "<a href=\"https://colab.research.google.com/github/RomanoDS/DSNP/blob/main/Dictionaries.ipynb\" target=\"_parent\"><img src=\"https://colab.research.google.com/assets/colab-badge.svg\" alt=\"Open In Colab\"/></a>"
      ]
    },
    {
      "cell_type": "markdown",
      "metadata": {
        "id": "ukrY5iqkpPcK"
      },
      "source": [
        "# Dicts\r\n",
        "\r\n",
        "Dictionaries are also a mutable datatypes. Although, difer the lists, dictionaries do a kind of mapping between \"Keys\" and \"Values\".\r\n",
        "\r\n",
        "![alt text](https://developers.google.com/edu/python/images/dict.png)\r\n",
        "\r\n",
        "It is worth mentioning that the dictionary keys can be not only strings, but other types, such as integers.\r\n",
        "\r\n",
        "To create a Dict, let´s use the keys `{}`.\r\n",
        "\r\n"
      ]
    },
    {
      "cell_type": "code",
      "metadata": {
        "id": "MgSS2_vLoqvZ"
      },
      "source": [
        "# Creating a empty dict\r\n",
        "my_dict = {}"
      ],
      "execution_count": 26,
      "outputs": []
    },
    {
      "cell_type": "code",
      "metadata": {
        "colab": {
          "base_uri": "https://localhost:8080/"
        },
        "id": "Lt0WhfYHrmc3",
        "outputId": "a9b2ee56-ac26-4614-fec6-437945d111e9"
      },
      "source": [
        "# Verifing the type\r\n",
        "type(my_dict)"
      ],
      "execution_count": 27,
      "outputs": [
        {
          "output_type": "execute_result",
          "data": {
            "text/plain": [
              "dict"
            ]
          },
          "metadata": {
            "tags": []
          },
          "execution_count": 27
        }
      ]
    },
    {
      "cell_type": "code",
      "metadata": {
        "id": "P1YkvPYjrt4L"
      },
      "source": [
        "# Creating a dict with items\r\n",
        "exemple = {'Gian':  'Italy', 'Joseph': 'Germany', 'Maria':'Brazil'}"
      ],
      "execution_count": 28,
      "outputs": []
    },
    {
      "cell_type": "code",
      "metadata": {
        "colab": {
          "base_uri": "https://localhost:8080/"
        },
        "id": "Ilmwq8zgspOh",
        "outputId": "9fd099b0-6020-4937-bd68-07d249b694fb"
      },
      "source": [
        "exemple"
      ],
      "execution_count": 29,
      "outputs": [
        {
          "output_type": "execute_result",
          "data": {
            "text/plain": [
              "{'Gian': 'Italy', 'Joseph': 'Germany', 'Maria': 'Brazil'}"
            ]
          },
          "metadata": {
            "tags": []
          },
          "execution_count": 29
        }
      ]
    },
    {
      "cell_type": "markdown",
      "metadata": {
        "id": "oYo_hAfrtQ20"
      },
      "source": [
        "To access the values by keys, we call dictionary name, and enclose the key name in quotes, single or double, in square brackets."
      ]
    },
    {
      "cell_type": "code",
      "metadata": {
        "colab": {
          "base_uri": "https://localhost:8080/",
          "height": 35
        },
        "id": "48VYmur2ukBW",
        "outputId": "83562fb4-f834-4819-e874-5433da10e1f5"
      },
      "source": [
        "# Access Gian Nationality\r\n",
        "exemple['Gian']"
      ],
      "execution_count": 30,
      "outputs": [
        {
          "output_type": "execute_result",
          "data": {
            "application/vnd.google.colaboratory.intrinsic+json": {
              "type": "string"
            },
            "text/plain": [
              "'Italy'"
            ]
          },
          "metadata": {
            "tags": []
          },
          "execution_count": 30
        }
      ]
    },
    {
      "cell_type": "markdown",
      "metadata": {
        "id": "5eBgKXAOvMM9"
      },
      "source": [
        "To add new items to our Dictionary, we call the dictionary name, the name of the new key in quotation marks within the brackets, and associate a value with that key."
      ]
    },
    {
      "cell_type": "code",
      "metadata": {
        "colab": {
          "base_uri": "https://localhost:8080/"
        },
        "id": "VO0mJUHovAAp",
        "outputId": "8cf2a5c9-614b-4fba-b86c-fcc2c5476f4e"
      },
      "source": [
        "exemple['Lyoto'] = 'Japan'\r\n",
        "\r\n",
        "print(exemple)"
      ],
      "execution_count": 31,
      "outputs": [
        {
          "output_type": "stream",
          "text": [
            "{'Gian': 'Italy', 'Joseph': 'Germany', 'Maria': 'Brazil', 'Lyoto': 'Japan'}\n"
          ],
          "name": "stdout"
        }
      ]
    },
    {
      "cell_type": "markdown",
      "metadata": {
        "id": "VLFcB104wjD6"
      },
      "source": [
        "If we want to exlude a Key, just use the `pop()` method.\r\n",
        "\r\n",
        "> exemple.pop('keyname')"
      ]
    },
    {
      "cell_type": "code",
      "metadata": {
        "colab": {
          "base_uri": "https://localhost:8080/"
        },
        "id": "vD_PW1f9wdMI",
        "outputId": "8b9f60de-2155-4006-9da8-da8d7478ac5f"
      },
      "source": [
        "# Exclude items\r\n",
        "exemple.pop('Joseph')\r\n",
        "\r\n",
        "print(exemple)"
      ],
      "execution_count": 32,
      "outputs": [
        {
          "output_type": "stream",
          "text": [
            "{'Gian': 'Italy', 'Maria': 'Brazil', 'Lyoto': 'Japan'}\n"
          ],
          "name": "stdout"
        }
      ]
    },
    {
      "cell_type": "markdown",
      "metadata": {
        "id": "Gn4EEsX_x9d2"
      },
      "source": [
        "To changing items, the process is the same as creating Keys.\r\n",
        "\r\n",
        "However, we use a pre-existing key, and we indicate a new value for it."
      ]
    },
    {
      "cell_type": "code",
      "metadata": {
        "colab": {
          "base_uri": "https://localhost:8080/"
        },
        "id": "JbcPXWSzzKaW",
        "outputId": "dc338828-b2bb-4497-e8bb-e2cc97cf8496"
      },
      "source": [
        "# Changing an item\r\n",
        "exemple['Maria'] = 'Uruguay'\r\n",
        "\r\n",
        "print(exemple)"
      ],
      "execution_count": 33,
      "outputs": [
        {
          "output_type": "stream",
          "text": [
            "{'Gian': 'Italy', 'Maria': 'Uruguay', 'Lyoto': 'Japan'}\n"
          ],
          "name": "stdout"
        }
      ]
    },
    {
      "cell_type": "markdown",
      "metadata": {
        "id": "JFgvHALc0jcS"
      },
      "source": [
        "### Some more details about Dictionaries\r\n",
        "\r\n",
        "When we dealing with Dicts, we have to pay attention with some details.\r\n",
        "\r\n",
        "One is that we cannot have two keys with the same name. We have already seen that if we use the name of an existing key and associate it with a different value, it will update the key, not duplicate it.. \r\n",
        "\r\n",
        "Meanwhile, the values ​​have no restrictions, and can be any type of data.\r\n",
        "\r\n"
      ]
    },
    {
      "cell_type": "markdown",
      "metadata": {
        "id": "k3gWHVMq3B4i"
      },
      "source": [
        "## *Built-in* Functions\r\n",
        "Dictionaries have some native functions.\r\n",
        "\r\n",
        "Above, we´ve seen the `pop()` to delete items. Let´s see some others right now"
      ]
    },
    {
      "cell_type": "markdown",
      "metadata": {
        "id": "X34Fpf4e3-ms"
      },
      "source": [
        "### .get()\r\n",
        "The `.get()` function allow us to search values in a especific key."
      ]
    },
    {
      "cell_type": "code",
      "metadata": {
        "colab": {
          "base_uri": "https://localhost:8080/",
          "height": 35
        },
        "id": "9Nf3ggUg3BQi",
        "outputId": "cac9122e-f7fd-419d-9ad0-6ae072e6f66a"
      },
      "source": [
        "# get()\r\n",
        "# exemple('Maria')\r\n",
        "exemple.get('Maria')"
      ],
      "execution_count": 41,
      "outputs": [
        {
          "output_type": "execute_result",
          "data": {
            "application/vnd.google.colaboratory.intrinsic+json": {
              "type": "string"
            },
            "text/plain": [
              "'Uruguay'"
            ]
          },
          "metadata": {
            "tags": []
          },
          "execution_count": 41
        }
      ]
    },
    {
      "cell_type": "markdown",
      "metadata": {
        "id": "T6lyN-K55y8U"
      },
      "source": [
        "#### .items()\r\n",
        "\r\n",
        "This function lists all the keys and items in our dictionary."
      ]
    },
    {
      "cell_type": "code",
      "metadata": {
        "colab": {
          "base_uri": "https://localhost:8080/"
        },
        "id": "Fq74_sj26R8-",
        "outputId": "0b83dea8-cc99-4be9-ab56-6906225dcecd"
      },
      "source": [
        "# items()\r\n",
        "exemple.items()\r\n"
      ],
      "execution_count": 43,
      "outputs": [
        {
          "output_type": "execute_result",
          "data": {
            "text/plain": [
              "dict_items([('Gian', 'Italy'), ('Maria', 'Uruguay'), ('Lyoto', 'Japan')])"
            ]
          },
          "metadata": {
            "tags": []
          },
          "execution_count": 43
        }
      ]
    },
    {
      "cell_type": "markdown",
      "metadata": {
        "id": "WboLwgAB6ijG"
      },
      "source": [
        "### .keys()\r\n",
        "Allow us to cought only the dictionary keys.\r\n"
      ]
    },
    {
      "cell_type": "code",
      "metadata": {
        "colab": {
          "base_uri": "https://localhost:8080/"
        },
        "id": "fKDNEUhv7Hw1",
        "outputId": "ded1d250-ec5e-4c2d-d14b-67e040bec6a8"
      },
      "source": [
        "# .keys()\r\n",
        "exemple.keys()"
      ],
      "execution_count": 44,
      "outputs": [
        {
          "output_type": "execute_result",
          "data": {
            "text/plain": [
              "dict_keys(['Gian', 'Maria', 'Lyoto'])"
            ]
          },
          "metadata": {
            "tags": []
          },
          "execution_count": 44
        }
      ]
    },
    {
      "cell_type": "markdown",
      "metadata": {
        "id": "v2Dzcfve7OaQ"
      },
      "source": [
        "### .values()\r\n",
        "This function return the dictionary values."
      ]
    },
    {
      "cell_type": "code",
      "metadata": {
        "colab": {
          "base_uri": "https://localhost:8080/"
        },
        "id": "9rQn5cqZ7cxf",
        "outputId": "61ec6ffb-ec69-4613-9575-3dce4b1027f8"
      },
      "source": [
        "# .values()\r\n",
        "exemple.values()"
      ],
      "execution_count": 45,
      "outputs": [
        {
          "output_type": "execute_result",
          "data": {
            "text/plain": [
              "dict_values(['Italy', 'Uruguay', 'Japan'])"
            ]
          },
          "metadata": {
            "tags": []
          },
          "execution_count": 45
        }
      ]
    },
    {
      "cell_type": "markdown",
      "metadata": {
        "id": "6RR6SjvJ8DoP"
      },
      "source": [
        "### .pop()/.popitem()\r\n",
        "\r\n",
        "Above, we´ve seen how to use `.pop()`. We indicate the key wich we wanto to delete, and it´s gone.\r\n",
        "\r\n",
        "Using the function .popitem() we delete the last dictionary key."
      ]
    },
    {
      "cell_type": "code",
      "metadata": {
        "colab": {
          "base_uri": "https://localhost:8080/"
        },
        "id": "X9UKc1Pe8DJ-",
        "outputId": "e972d86c-ab42-4d4e-c4de-17698398a599"
      },
      "source": [
        "# popitem()\r\n",
        "print('Original Dict: ', exemple)\r\n",
        "exemple.popitem()\r\n",
        "print('After popitem() Dict: ', exemple)"
      ],
      "execution_count": 46,
      "outputs": [
        {
          "output_type": "stream",
          "text": [
            "Original Dict:  {'Gian': 'Italy', 'Maria': 'Uruguay', 'Lyoto': 'Japan'}\n",
            "After popitem() Dict:  {'Gian': 'Italy', 'Maria': 'Uruguay'}\n"
          ],
          "name": "stdout"
        }
      ]
    },
    {
      "cell_type": "markdown",
      "metadata": {
        "id": "1qONVfUK9JMM"
      },
      "source": [
        "### .update()\r\n",
        " This function is used for join Dictionaries.\r\n",
        "\r\n",
        " * In case of the key isn´t at the first Dictionary, it will be added.\r\n",
        " * In case of the key already exist at the first Dictionary, your value will be changed by the corresponding key at the second Dictionary.\r\n",
        "\r\n",
        " How we can see below, we created two dictonaries and the result  was:\r\n",
        " * The `Sandra` key didn´t exists at d1, and was added to it.\r\n",
        " * The `Lyoto` key has been updated from Japan to South Korea.\r\n",
        " * The `Maria` key kept the same value in both dictionaries, so, it has no changed.\r\n",
        " "
      ]
    },
    {
      "cell_type": "code",
      "metadata": {
        "colab": {
          "base_uri": "https://localhost:8080/"
        },
        "id": "bhnq0iiO9U7n",
        "outputId": "a0bbc5aa-bb9d-4c23-93fa-978a6b837e06"
      },
      "source": [
        "# update()\r\n",
        "d1= {'Gian': 'Italy', 'Maria': 'Uruguay', 'Lyoto': 'Japan'}\r\n",
        "print('Dictionary 1: ',d1)\r\n",
        "d2= {'Sandra': 'Portugal', 'Maria': 'Uruguay', 'Lyoto': 'South Korea'}\r\n",
        "print('Dictionary 2: ',d2)\r\n",
        "\r\n",
        "d1.update(d2)\r\n",
        "print('Final Dictionary: ', d1)"
      ],
      "execution_count": 49,
      "outputs": [
        {
          "output_type": "stream",
          "text": [
            "Dictionary 1:  {'Gian': 'Italy', 'Maria': 'Uruguay', 'Lyoto': 'Japan'}\n",
            "Dictionary 2:  {'Sandra': 'Portugal', 'Maria': 'Uruguay', 'Lyoto': 'South Korea'}\n",
            "Final Dictionary:  {'Gian': 'Italy', 'Maria': 'Uruguay', 'Lyoto': 'South Korea', 'Sandra': 'Portugal'}\n"
          ],
          "name": "stdout"
        }
      ]
    },
    {
      "cell_type": "markdown",
      "metadata": {
        "id": "zX0PKl9mB-M5"
      },
      "source": [
        "### .clear()\r\n",
        "Finally, to make a empty Dictionary, deleting all the keys and values, we use this function."
      ]
    },
    {
      "cell_type": "code",
      "metadata": {
        "colab": {
          "base_uri": "https://localhost:8080/"
        },
        "id": "OnbD-UxZCj-y",
        "outputId": "2344d119-8910-4494-a5e2-b50798971e72"
      },
      "source": [
        "# clear()\r\n",
        "exemple.clear()\r\n",
        "exemple"
      ],
      "execution_count": 50,
      "outputs": [
        {
          "output_type": "execute_result",
          "data": {
            "text/plain": [
              "{}"
            ]
          },
          "metadata": {
            "tags": []
          },
          "execution_count": 50
        }
      ]
    }
  ]
}