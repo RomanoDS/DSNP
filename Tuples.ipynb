{
  "nbformat": 4,
  "nbformat_minor": 0,
  "metadata": {
    "colab": {
      "name": "Tuples.ipynb",
      "provenance": [],
      "authorship_tag": "ABX9TyPavjMznDSq4A56lh1o0SmZ",
      "include_colab_link": true
    },
    "kernelspec": {
      "name": "python3",
      "display_name": "Python 3"
    }
  },
  "cells": [
    {
      "cell_type": "markdown",
      "metadata": {
        "id": "view-in-github",
        "colab_type": "text"
      },
      "source": [
        "<a href=\"https://colab.research.google.com/github/RomanoDS/DSNP/blob/main/Tuples.ipynb\" target=\"_parent\"><img src=\"https://colab.research.google.com/assets/colab-badge.svg\" alt=\"Open In Colab\"/></a>"
      ]
    },
    {
      "cell_type": "markdown",
      "metadata": {
        "id": "qtu-bpOo0NeA"
      },
      "source": [
        "#Tuples\r\n",
        "\r\n",
        "A tuple is another kind of struture, however it´s about a sorted sequence of imutable items.\r\n",
        "\r\n",
        "Typically, they are used to store pieces of information that view related.\r\n",
        "\r\n",
        "Can be accessed by the index, but thay cannot changed. That is you are enable to change, add or remove items from them.\r\n"
      ]
    },
    {
      "cell_type": "code",
      "metadata": {
        "id": "GPiuIvln0CP2"
      },
      "source": [
        "test = ()"
      ],
      "execution_count": 1,
      "outputs": []
    },
    {
      "cell_type": "code",
      "metadata": {
        "colab": {
          "base_uri": "https://localhost:8080/"
        },
        "id": "ip_t6EeU2jfw",
        "outputId": "fc5772c8-0ac7-4675-b1ed-880770938ad0"
      },
      "source": [
        "#verifing the type\r\n",
        "type(test)"
      ],
      "execution_count": 2,
      "outputs": [
        {
          "output_type": "execute_result",
          "data": {
            "text/plain": [
              "tuple"
            ]
          },
          "metadata": {
            "tags": []
          },
          "execution_count": 2
        }
      ]
    },
    {
      "cell_type": "markdown",
      "metadata": {
        "id": "XRj9hbBK2yHz"
      },
      "source": [
        "To create a tuple we must use the comas, even though the purpose is create a single-item tuple. In case that you don´t put the comas, python will read as an `int` type.\r\n"
      ]
    },
    {
      "cell_type": "code",
      "metadata": {
        "colab": {
          "base_uri": "https://localhost:8080/"
        },
        "id": "3uQOX6zw2uqb",
        "outputId": "c9d6c59c-71b4-40fc-a75a-56edc4b5226b"
      },
      "source": [
        "# trying to create a tuple without comas\r\n",
        "t = (2)\r\n",
        "type(t)"
      ],
      "execution_count": 3,
      "outputs": [
        {
          "output_type": "execute_result",
          "data": {
            "text/plain": [
              "int"
            ]
          },
          "metadata": {
            "tags": []
          },
          "execution_count": 3
        }
      ]
    },
    {
      "cell_type": "code",
      "metadata": {
        "colab": {
          "base_uri": "https://localhost:8080/"
        },
        "id": "NXTE2_ZH4N-o",
        "outputId": "f3e4c806-ae94-419c-c96c-cb0cbb14fecd"
      },
      "source": [
        "# creating a tuple of once value with comas\r\n",
        "t = (2,)\r\n",
        "type(t)"
      ],
      "execution_count": 4,
      "outputs": [
        {
          "output_type": "execute_result",
          "data": {
            "text/plain": [
              "tuple"
            ]
          },
          "metadata": {
            "tags": []
          },
          "execution_count": 4
        }
      ]
    },
    {
      "cell_type": "code",
      "metadata": {
        "colab": {
          "base_uri": "https://localhost:8080/"
        },
        "id": "L0X_2uHK4dV5",
        "outputId": "57a13161-3a78-4bd7-848b-95e0ad65f724"
      },
      "source": [
        "# exemple: the dimension of perfect shoe box\r\n",
        "shoe_box = (18,28,10)\r\n",
        "\r\n",
        "print(shoe_box)"
      ],
      "execution_count": 5,
      "outputs": [
        {
          "output_type": "stream",
          "text": [
            "(18, 28, 10)\n"
          ],
          "name": "stdout"
        }
      ]
    },
    {
      "cell_type": "markdown",
      "metadata": {
        "id": "ESnw21QK4uLg"
      },
      "source": [
        "We also can connect variables with each value in a tuple. In addition, a tuple can have as many values as needed.\r\n",
        "\r\n"
      ]
    },
    {
      "cell_type": "code",
      "metadata": {
        "id": "2DmhE7Yg5aoy"
      },
      "source": [
        "# latitude and longitude of Curitiba, Brazil.\r\n",
        "curitiba = (-25.441105, -49.276855)\r\n",
        "\r\n",
        "# connecting the values to variables.\r\n",
        "lat, lon = curitiba"
      ],
      "execution_count": 7,
      "outputs": []
    },
    {
      "cell_type": "code",
      "metadata": {
        "colab": {
          "base_uri": "https://localhost:8080/"
        },
        "id": "IEEsIJ6n6TqG",
        "outputId": "fc123c5a-18f0-4d7f-fb56-c21fabc79f00"
      },
      "source": [
        "print(f'Latitude: {lat}')\r\n",
        "print(f'Longitude: {lon}')\r\n",
        "\r\n",
        "print(f'\\n\\n{curitiba}')\r\n"
      ],
      "execution_count": 10,
      "outputs": [
        {
          "output_type": "stream",
          "text": [
            "Latitude: -25.441105\n",
            "Longitude: -49.276855\n",
            "\n",
            "\n",
            "(-25.441105, -49.276855)\n"
          ],
          "name": "stdout"
        }
      ]
    },
    {
      "cell_type": "markdown",
      "metadata": {
        "id": "dL14sjNC60UH"
      },
      "source": [
        "### If tuples are imutables, why use them instead of lists?\r\n",
        "\r\n",
        "Could strange crate an objetc that cannot be modified, but we gain advantage of using tuples, for exemple:\r\n",
        "\r\n",
        "* The execution of a program is faster when handling tuples than its equivalent in list format.\r\n",
        "\r\n",
        "* Sometimes we ** don't want ** the data to be modified. If a collection of values ​​needs to remain constant throughout the program cycle, using tuples intead the lists offers more security against accidental modification.\r\n",
        "\r\n",
        "* When using Dictionaries, we can have tuples within them, which will be immutable, carrying to the dictionaries the benefits of the previous point, when comparing with the lists.\r\n",
        "\r\n",
        "\r\n"
      ]
    },
    {
      "cell_type": "markdown",
      "metadata": {
        "id": "Us9vVBYZ9JIW"
      },
      "source": [
        "\r\n",
        "Despite their immutability, we can access and explore them.\r\n",
        "\r\n",
        "In addition, tuples can contain any type of data, such as `int`,` float` and `string`."
      ]
    },
    {
      "cell_type": "code",
      "metadata": {
        "colab": {
          "base_uri": "https://localhost:8080/"
        },
        "id": "RLwbcVQ79VTK",
        "outputId": "bd0d37bd-9890-4ccd-ca51-54b4f6724830"
      },
      "source": [
        "# String tuples\r\n",
        "countries = ('Brazil', 'Canada', 'Chile', 'Australia')\r\n",
        "type(countries)\r\n"
      ],
      "execution_count": 13,
      "outputs": [
        {
          "output_type": "execute_result",
          "data": {
            "text/plain": [
              "tuple"
            ]
          },
          "metadata": {
            "tags": []
          },
          "execution_count": 13
        }
      ]
    },
    {
      "cell_type": "markdown",
      "metadata": {
        "id": "aYvHm3yH94dh"
      },
      "source": [
        "Every item within tuple have an index, that can be accessed."
      ]
    },
    {
      "cell_type": "code",
      "metadata": {
        "colab": {
          "base_uri": "https://localhost:8080/"
        },
        "id": "eQHmmU22-P2M",
        "outputId": "64bf5398-be62-4b7d-b9ac-075499a1b6cf"
      },
      "source": [
        "# accessing the first item of a tuple\r\n",
        "print(countries[0])\r\n",
        "\r\n",
        "# accessing the last item of a tuple\r\n",
        "print(countries[-1])"
      ],
      "execution_count": 14,
      "outputs": [
        {
          "output_type": "stream",
          "text": [
            "Brazil\n",
            "Australia\n"
          ],
          "name": "stdout"
        }
      ]
    }
  ]
}