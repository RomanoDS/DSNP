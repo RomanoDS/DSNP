{
  "nbformat": 4,
  "nbformat_minor": 0,
  "metadata": {
    "colab": {
      "name": "lists.ipynb",
      "provenance": [],
      "authorship_tag": "ABX9TyNLzmHde77osRD/Cdr7wmUp",
      "include_colab_link": true
    },
    "kernelspec": {
      "name": "python3",
      "display_name": "Python 3"
    }
  },
  "cells": [
    {
      "cell_type": "markdown",
      "metadata": {
        "id": "view-in-github",
        "colab_type": "text"
      },
      "source": [
        "<a href=\"https://colab.research.google.com/github/RomanoDS/DSNP/blob/main/lists.ipynb\" target=\"_parent\"><img src=\"https://colab.research.google.com/assets/colab-badge.svg\" alt=\"Open In Colab\"/></a>"
      ]
    },
    {
      "cell_type": "markdown",
      "metadata": {
        "id": "lqJL5a0KErQ8"
      },
      "source": [
        ""
      ]
    },
    {
      "cell_type": "markdown",
      "metadata": {
        "id": "-CAw_mYUFMgA"
      },
      "source": [
        "# List\r\n",
        "Lists are sequence of values, where each value is identified by an index regarding their position. The variable type of lists is `list`, and you will see how extremely useful they are for data manipulation\r\n",
        "\r\n",
        "Important detail, the list are changeable, compose of diferent values, called elements or items, and may or may not be at diferent types"
      ]
    },
    {
      "cell_type": "markdown",
      "metadata": {
        "id": "IumBVNmFH-zz"
      },
      "source": [
        "To create a list, we will use the brackets `[]`."
      ]
    },
    {
      "cell_type": "markdown",
      "metadata": {
        "id": "k0l-2UdZFImH"
      },
      "source": [
        ""
      ]
    },
    {
      "cell_type": "code",
      "metadata": {
        "colab": {
          "base_uri": "https://localhost:8080/"
        },
        "id": "J_A6nii3IqYd",
        "outputId": "2c553505-29cd-4206-843a-9a8d35db025d"
      },
      "source": [
        "# create a list\r\n",
        "initial_list = []\r\n",
        "print(initial_list)\r\n",
        "print(type(initial_list))\r\n"
      ],
      "execution_count": 1,
      "outputs": [
        {
          "output_type": "stream",
          "text": [
            "[]\n",
            "<class 'list'>\n"
          ],
          "name": "stdout"
        }
      ]
    },
    {
      "cell_type": "markdown",
      "metadata": {
        "id": "QslFFfYUJTTm"
      },
      "source": [
        "We can insert items of diferent types inside in the same list."
      ]
    },
    {
      "cell_type": "code",
      "metadata": {
        "colab": {
          "base_uri": "https://localhost:8080/"
        },
        "id": "1xw6JV3PJKvl",
        "outputId": "278c562b-4879-4e01-afa8-0ef5a3472081"
      },
      "source": [
        "# create a list with items\r\n",
        "initial_list = ['Data', 'Science', 2021, True]\r\n",
        "print(initial_list)"
      ],
      "execution_count": 2,
      "outputs": [
        {
          "output_type": "stream",
          "text": [
            "['Data', 'Science', 2021, True]\n"
          ],
          "name": "stdout"
        }
      ]
    },
    {
      "cell_type": "markdown",
      "metadata": {
        "id": "Up2_CzinKEBs"
      },
      "source": [
        "#### Acessing an element\r\n",
        "\r\n",
        "At last chunck above, we create a List `initial_list = ['Data', 'Science', 2021, True]`.\r\n",
        "\r\n",
        "To acess any element in this list, we need indicate which index refer to the position of the same one. Remeber that the first element contain an indexing equal $0$!\r\n",
        "\r\n",
        "| \"Data\" | \"Science\" | 2021 | True |\r\n",
        "|----------|--------|-------|------|\r\n",
        "| 0        | 1      | 2     | 3    |\r\n",
        "| \\-4      | \\-3    | \\-2   | \\-1  |\r\n",
        "\r\n",
        "Python also allows you to access elements from the last one,  just using the $-1$ for the last square and subtract 1 for the previous positions."
      ]
    },
    {
      "cell_type": "code",
      "metadata": {
        "colab": {
          "base_uri": "https://localhost:8080/"
        },
        "id": "hNM_dzYmQL9i",
        "outputId": "4c2bd9c1-853b-4cfb-e99f-853b70e56b1a"
      },
      "source": [
        "# access the element 'Data'\r\n",
        "print(initial_list[0])"
      ],
      "execution_count": 4,
      "outputs": [
        {
          "output_type": "stream",
          "text": [
            "Data\n"
          ],
          "name": "stdout"
        }
      ]
    },
    {
      "cell_type": "code",
      "metadata": {
        "colab": {
          "base_uri": "https://localhost:8080/"
        },
        "id": "yZKSS40xQqtt",
        "outputId": "cd3c7031-0d60-4456-c283-7070bb60a734"
      },
      "source": [
        "# access the penultimate element\r\n",
        "print(initial_list[-1])"
      ],
      "execution_count": 6,
      "outputs": [
        {
          "output_type": "stream",
          "text": [
            "True\n"
          ],
          "name": "stdout"
        }
      ]
    },
    {
      "cell_type": "code",
      "metadata": {
        "colab": {
          "base_uri": "https://localhost:8080/",
          "height": 180
        },
        "id": "TXqqnGJARJD0",
        "outputId": "78ceb465-a92d-4750-fb93-a2e51a06abf5"
      },
      "source": [
        "# error at try to access a value that is not in range of the list\r\n",
        "print(initial_list[6])"
      ],
      "execution_count": 7,
      "outputs": [
        {
          "output_type": "error",
          "ename": "IndexError",
          "evalue": "ignored",
          "traceback": [
            "\u001b[0;31m---------------------------------------------------------------------------\u001b[0m",
            "\u001b[0;31mIndexError\u001b[0m                                Traceback (most recent call last)",
            "\u001b[0;32m<ipython-input-7-576b2b5ec72f>\u001b[0m in \u001b[0;36m<module>\u001b[0;34m()\u001b[0m\n\u001b[1;32m      1\u001b[0m \u001b[0;31m# error at try to access a value that is not in range of the list\u001b[0m\u001b[0;34m\u001b[0m\u001b[0;34m\u001b[0m\u001b[0;34m\u001b[0m\u001b[0m\n\u001b[0;32m----> 2\u001b[0;31m \u001b[0mprint\u001b[0m\u001b[0;34m(\u001b[0m\u001b[0minitial_list\u001b[0m\u001b[0;34m[\u001b[0m\u001b[0;36m6\u001b[0m\u001b[0;34m]\u001b[0m\u001b[0;34m)\u001b[0m\u001b[0;34m\u001b[0m\u001b[0;34m\u001b[0m\u001b[0m\n\u001b[0m",
            "\u001b[0;31mIndexError\u001b[0m: list index out of range"
          ]
        }
      ]
    },
    {
      "cell_type": "markdown",
      "metadata": {
        "id": "Esz2nH1HRlfk"
      },
      "source": [
        "#### Slicing of Lists\r\n",
        "The same way that we can \"slicing\" an string, its possible slicing an list. In this case, slicing a list means access items inside the considered interval.\r\n",
        "\r\n",
        "| \"Elon\" | \"Student\" | 222\\.50 | 433\\.80 | 591\\.66 | 124\\.20 |\r\n",
        "|-----------|-------------|---------|---------|---------|---------|\r\n",
        "| 0         | 1           | 2       | 3       | 4       | 5       |\r\n",
        "| \\-6       | \\-5         | \\-4     | \\-3     | \\-2     | \\-1     |\r\n",
        "\r\n",
        "\r\n",
        "Let´s see how this works on practice, creating and slicing a list."
      ]
    },
    {
      "cell_type": "code",
      "metadata": {
        "id": "YNXMuLGWRjWs"
      },
      "source": [
        "# quarterly spendings\r\n",
        "client = ['Elon', 'Student', 222.50, 433.80, 591.66, 124.20]"
      ],
      "execution_count": 8,
      "outputs": []
    },
    {
      "cell_type": "code",
      "metadata": {
        "colab": {
          "base_uri": "https://localhost:8080/"
        },
        "id": "yN47dlGmVe3h",
        "outputId": "e0589f08-f536-4042-bebb-57c05fded4cc"
      },
      "source": [
        "# access the last four colums\r\n",
        "client[2:]"
      ],
      "execution_count": 10,
      "outputs": [
        {
          "output_type": "execute_result",
          "data": {
            "text/plain": [
              "[222.5, 433.8, 591.66, 124.2]"
            ]
          },
          "metadata": {
            "tags": []
          },
          "execution_count": 10
        }
      ]
    },
    {
      "cell_type": "markdown",
      "metadata": {
        "id": "bhpDfmOGWF-H"
      },
      "source": [
        ""
      ]
    },
    {
      "cell_type": "markdown",
      "metadata": {
        "id": "ZDuyhIQCWIe3"
      },
      "source": [
        "#### Cheking if an item belongs to the list\r\n",
        "\r\n",
        "It is possible to check whether a particular item is in a list or not. That´s can be done using `in` or `not in`, which will return a boolean response."
      ]
    },
    {
      "cell_type": "code",
      "metadata": {
        "id": "cpYLID8eZd5K"
      },
      "source": [
        "# create a guests list\r\n",
        "guests = ['Alberto', 'Julia', 'Ricardo', 'Marie', 'Joe']"
      ],
      "execution_count": 11,
      "outputs": []
    },
    {
      "cell_type": "code",
      "metadata": {
        "colab": {
          "base_uri": "https://localhost:8080/"
        },
        "id": "UL-iwpC2Z7c3",
        "outputId": "7c8e53d0-16cf-4266-8d11-140c80b72302"
      },
      "source": [
        "# Searching if Julia is among the guests\r\n",
        "'Julia' in guests"
      ],
      "execution_count": 12,
      "outputs": [
        {
          "output_type": "execute_result",
          "data": {
            "text/plain": [
              "True"
            ]
          },
          "metadata": {
            "tags": []
          },
          "execution_count": 12
        }
      ]
    },
    {
      "cell_type": "code",
      "metadata": {
        "colab": {
          "base_uri": "https://localhost:8080/"
        },
        "id": "QzxnQicOaz12",
        "outputId": "200cb8de-fb7a-47cd-e2bd-6a5b128fc57c"
      },
      "source": [
        "# Confirm that Richard was not invited\r\n",
        "'Richard' not in guests"
      ],
      "execution_count": 13,
      "outputs": [
        {
          "output_type": "execute_result",
          "data": {
            "text/plain": [
              "True"
            ]
          },
          "metadata": {
            "tags": []
          },
          "execution_count": 13
        }
      ]
    },
    {
      "cell_type": "markdown",
      "metadata": {
        "id": "6ifwYHfzbfT_"
      },
      "source": [
        "#### Change an item on my list\r\n",
        "\r\n",
        "Since the list as imutable, it is possible to access an index and change the its contents"
      ]
    },
    {
      "cell_type": "code",
      "metadata": {
        "colab": {
          "base_uri": "https://localhost:8080/"
        },
        "id": "PUNJmYD9dInc",
        "outputId": "b994c9d5-5dca-424c-8ec2-fd33e9786b35"
      },
      "source": [
        "# stock portfolio\r\n",
        "portfolio = ['NVDA', 'ROKU', 'ETSY']\r\n",
        "print(portfolio)"
      ],
      "execution_count": 19,
      "outputs": [
        {
          "output_type": "stream",
          "text": [
            "['NVDA', 'ROKU', 'ETSY']\n"
          ],
          "name": "stdout"
        }
      ]
    },
    {
      "cell_type": "code",
      "metadata": {
        "colab": {
          "base_uri": "https://localhost:8080/"
        },
        "id": "my3Kau2ReOxk",
        "outputId": "7822c85e-c86a-4193-8b14-33493df064d9"
      },
      "source": [
        "# change 'ROKU' to 'AAPL'\r\n",
        "portfolio[1]= 'AAPL'\r\n",
        "print(portfolio)"
      ],
      "execution_count": 23,
      "outputs": [
        {
          "output_type": "stream",
          "text": [
            "['NVDA', 'AAPL', 'ETSY']\n"
          ],
          "name": "stdout"
        }
      ]
    },
    {
      "cell_type": "markdown",
      "metadata": {
        "id": "KJMGefx9kZiQ"
      },
      "source": [
        "#### Add and Excluiding Items of Lists\r\n",
        "To add items to the end of the list, you can use the method `append()`.\r\n",
        "\r\n",
        "To delete an item, either the `pop()` method or the `remove()` method can be used. The diference between these two methods is what while the first recive the item position as an argument, the second, consider the own value of the item. "
      ]
    },
    {
      "cell_type": "code",
      "metadata": {
        "colab": {
          "base_uri": "https://localhost:8080/"
        },
        "id": "OpTuFytPoCgJ",
        "outputId": "4394ca04-3339-4da3-9346-177cd2362a30"
      },
      "source": [
        "# Add 'Ronda' to the list\r\n",
        "guests = ['Alberto', 'Julia', 'Ricardo', 'Marie', 'Joe']\r\n",
        "\r\n",
        "guests.append('Ronda')\r\n",
        "print(guests)"
      ],
      "execution_count": 28,
      "outputs": [
        {
          "output_type": "stream",
          "text": [
            "['Alberto', 'Julia', 'Ricardo', 'Marie', 'Joe', 'Ronda']\n"
          ],
          "name": "stdout"
        }
      ]
    },
    {
      "cell_type": "code",
      "metadata": {
        "colab": {
          "base_uri": "https://localhost:8080/"
        },
        "id": "euRz1y_Low2l",
        "outputId": "e1de4f59-1923-47ee-b180-77fa6d0b7948"
      },
      "source": [
        "# exclude the second guest of the list\r\n",
        "\r\n",
        "guests.pop(1)\r\n",
        "print(guests)"
      ],
      "execution_count": 29,
      "outputs": [
        {
          "output_type": "stream",
          "text": [
            "['Alberto', 'Ricardo', 'Marie', 'Joe', 'Ronda']\n"
          ],
          "name": "stdout"
        }
      ]
    },
    {
      "cell_type": "code",
      "metadata": {
        "colab": {
          "base_uri": "https://localhost:8080/"
        },
        "id": "zrYz_bdRpPVA",
        "outputId": "25c78f33-57bf-4979-b3ba-3772b5f7176c"
      },
      "source": [
        "# exclude \"Joe\" from the guests\r\n",
        "\r\n",
        "guests.remove('Joe')\r\n",
        "print(guests)"
      ],
      "execution_count": 30,
      "outputs": [
        {
          "output_type": "stream",
          "text": [
            "['Alberto', 'Ricardo', 'Marie', 'Ronda']\n"
          ],
          "name": "stdout"
        }
      ]
    }
  ]
}